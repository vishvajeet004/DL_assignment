{
 "cells": [
  {
   "cell_type": "code",
   "execution_count": 1,
   "id": "b635968d-5963-4d65-9090-534e0f482c3b",
   "metadata": {},
   "outputs": [
    {
     "name": "stdout",
     "output_type": "stream",
     "text": [
      "Time step 0, Output: [[2.91266751]]\n",
      "Time step 1, Output: [[1.90707441]]\n",
      "Time step 2, Output: [[3.28519613]]\n",
      "Time step 3, Output: [[2.43158636]]\n",
      "Time step 4, Output: [[4.11908222]]\n",
      "Time step 5, Output: [[1.60151671]]\n"
     ]
    }
   ],
   "source": [
    "import numpy as np\n",
    "\n",
    "# Activation functions and derivatives\n",
    "def sigmoid(x):\n",
    "    return 1 / (1 + np.exp(-x))\n",
    "\n",
    "def sigmoid_derivative(x):\n",
    "    return x * (1 - x)\n",
    "\n",
    "# Initialize weights\n",
    "Wxh = np.random.randn(10, 5)  # Input to hidden weights\n",
    "Whh = np.random.randn(10, 10) # Hidden to hidden weights\n",
    "Why = np.random.randn(1, 10)  # Hidden to output weights\n",
    "\n",
    "bh = np.zeros((10, 1))        # Hidden bias\n",
    "by = np.zeros((1, 1))         # Output bias\n",
    "\n",
    "# Initial hidden state\n",
    "h = np.zeros((10, 1))\n",
    "\n",
    "# Forward pass for one timestep\n",
    "def rnn_step(X, h):\n",
    "    # Update hidden state with sigmoid activation\n",
    "    h = sigmoid(np.dot(Wxh, X) + np.dot(Whh, h) + bh)\n",
    "    \n",
    "    # Output layer (linear activation for regression)\n",
    "    y = np.dot(Why, h) + by\n",
    "    return h, y\n",
    "\n",
    "# Dummy input sequence (6 time steps of 5-dimensional input)\n",
    "X_seq = [np.random.randn(5, 1) for _ in range(6)]\n",
    "\n",
    "# Process each time step in the sequence\n",
    "for t, X in enumerate(X_seq):\n",
    "    h, y = rnn_step(X, h)\n",
    "    print(f\"Time step {t}, Output: {y}\")\n"
   ]
  },
  {
   "cell_type": "code",
   "execution_count": 3,
   "id": "d892dd08-ef29-4103-93ca-65daf68bbe02",
   "metadata": {},
   "outputs": [
    {
     "name": "stdout",
     "output_type": "stream",
     "text": [
      "Epoch 1/10\n",
      "\u001b[1m1/1\u001b[0m \u001b[32m━━━━━━━━━━━━━━━━━━━━\u001b[0m\u001b[37m\u001b[0m \u001b[1m3s\u001b[0m 3s/step - loss: 0.4064\n",
      "Epoch 2/10\n",
      "\u001b[1m1/1\u001b[0m \u001b[32m━━━━━━━━━━━━━━━━━━━━\u001b[0m\u001b[37m\u001b[0m \u001b[1m0s\u001b[0m 56ms/step - loss: 0.3594\n",
      "Epoch 3/10\n",
      "\u001b[1m1/1\u001b[0m \u001b[32m━━━━━━━━━━━━━━━━━━━━\u001b[0m\u001b[37m\u001b[0m \u001b[1m0s\u001b[0m 61ms/step - loss: 0.3150\n",
      "Epoch 4/10\n",
      "\u001b[1m1/1\u001b[0m \u001b[32m━━━━━━━━━━━━━━━━━━━━\u001b[0m\u001b[37m\u001b[0m \u001b[1m0s\u001b[0m 57ms/step - loss: 0.2734\n",
      "Epoch 5/10\n",
      "\u001b[1m1/1\u001b[0m \u001b[32m━━━━━━━━━━━━━━━━━━━━\u001b[0m\u001b[37m\u001b[0m \u001b[1m0s\u001b[0m 70ms/step - loss: 0.2346\n",
      "Epoch 6/10\n",
      "\u001b[1m1/1\u001b[0m \u001b[32m━━━━━━━━━━━━━━━━━━━━\u001b[0m\u001b[37m\u001b[0m \u001b[1m0s\u001b[0m 55ms/step - loss: 0.1988\n",
      "Epoch 7/10\n",
      "\u001b[1m1/1\u001b[0m \u001b[32m━━━━━━━━━━━━━━━━━━━━\u001b[0m\u001b[37m\u001b[0m \u001b[1m0s\u001b[0m 59ms/step - loss: 0.1662\n",
      "Epoch 8/10\n",
      "\u001b[1m1/1\u001b[0m \u001b[32m━━━━━━━━━━━━━━━━━━━━\u001b[0m\u001b[37m\u001b[0m \u001b[1m0s\u001b[0m 75ms/step - loss: 0.1366\n",
      "Epoch 9/10\n",
      "\u001b[1m1/1\u001b[0m \u001b[32m━━━━━━━━━━━━━━━━━━━━\u001b[0m\u001b[37m\u001b[0m \u001b[1m0s\u001b[0m 62ms/step - loss: 0.1102\n",
      "Epoch 10/10\n",
      "\u001b[1m1/1\u001b[0m \u001b[32m━━━━━━━━━━━━━━━━━━━━\u001b[0m\u001b[37m\u001b[0m \u001b[1m0s\u001b[0m 64ms/step - loss: 0.0869\n",
      "\u001b[1m1/1\u001b[0m \u001b[32m━━━━━━━━━━━━━━━━━━━━\u001b[0m\u001b[37m\u001b[0m \u001b[1m0s\u001b[0m 332ms/step\n",
      "[[-0.46605605]]\n"
     ]
    }
   ],
   "source": [
    "import tensorflow as tf\n",
    "from tensorflow.keras.models import Sequential\n",
    "from tensorflow.keras.layers import Input, SimpleRNN, Dense\n",
    "\n",
    "# Define a Sequential model\n",
    "model = Sequential()\n",
    "\n",
    "# Define the input layer separately and specify the shape\n",
    "model.add(Input(shape=(None, 5)))  # Input layer specifying shape (sequence_length, input_size)\n",
    "\n",
    "# Add an RNN layer (hidden_size = 10)\n",
    "model.add(SimpleRNN(10))\n",
    "\n",
    "# Add a Dense output layer\n",
    "model.add(Dense(1))  # output_size = 1\n",
    "\n",
    "# Compile the model\n",
    "model.compile(optimizer='adam', loss='mean_squared_error')\n",
    "\n",
    "# Generate dummy data\n",
    "X = tf.random.normal([1, 6, 5])  # (batch_size, sequence_length, input_size)\n",
    "y = tf.random.normal([1, 1])     # (batch_size, output_size)\n",
    "\n",
    "# Train the model\n",
    "model.fit(X, y, epochs=10)\n",
    "\n",
    "# Predict using the model\n",
    "output = model.predict(X)\n",
    "print(output)\n"
   ]
  },
  {
   "cell_type": "code",
   "execution_count": null,
   "id": "ef5c8ae7-6e6e-4e9c-9a5d-b909d3182d2f",
   "metadata": {},
   "outputs": [],
   "source": []
  }
 ],
 "metadata": {
  "kernelspec": {
   "display_name": "Python (myenv)",
   "language": "python",
   "name": "myenv"
  },
  "language_info": {
   "codemirror_mode": {
    "name": "ipython",
    "version": 3
   },
   "file_extension": ".py",
   "mimetype": "text/x-python",
   "name": "python",
   "nbconvert_exporter": "python",
   "pygments_lexer": "ipython3",
   "version": "3.11.5"
  }
 },
 "nbformat": 4,
 "nbformat_minor": 5
}
